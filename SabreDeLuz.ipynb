{
 "cells": [
  {
   "cell_type": "code",
   "execution_count": 7,
   "metadata": {},
   "outputs": [],
   "source": [
    "def generateSaberToFrame(frame):\n",
    "    B, G, R = {'min': 0, 'max': 255}, {'min': 0, 'max': 255}, {'min': 0, 'max': 10}\n",
    "    \n",
    "    #definir os intervalos de cores que vão aparecer na imagem final\n",
    "    lowerColor = np.array([B['min'], G['min'], R['min']])\n",
    "    upperColor = np.array([B['max'], G['max'], R['max']])\n",
    "    \n",
    "    #marcador pra saber se o pixel pertence ao intervalo ou não\n",
    "    mask = cv2.inRange(frame, lowerColor, upperColor)\n",
    "    \n",
    "    #aplica máscara que \"deixa passar\" pixels pertencentes ao intervalo, como filtro\n",
    "    result = cv2.bitwise_and(frame, frame, mask = mask)\n",
    "    \n",
    "    #aplica limiarização\n",
    "    gray = cv2.cvtColor(result, cv2.COLOR_BGR2GRAY)\n",
    "    _,gray = cv2.threshold(gray, 0, 255, cv2.THRESH_BINARY | cv2.THRESH_OTSU)\n",
    "    \n",
    "    #preenche gaps\n",
    "    kernel = np.ones((28, 28), 'uint8')\n",
    "    gray = cv2.dilate(gray, kernel, iterations=3)\n",
    "    gray = cv2.erode(gray, kernel, iterations=1)\n",
    "   \n",
    "    #adiciona todos os canais de cor à imagem limiarizada\n",
    "    saber = cv2.cvtColor(gray, cv2.COLOR_GRAY2BGR)\n",
    "\n",
    "    #canais de cores\n",
    "    zeros = np.zeros(frame.shape[:2], dtype = 'uint8')\n",
    "    red = zeros\n",
    "    green = zeros+185\n",
    "    blue = zeros+185\n",
    "\n",
    "    #cria blur vermelho\n",
    "    blur = saber\n",
    "    blur = cv2.bitwise_not(blur)\n",
    "    blur[:,:,0] = cv2.add(blur[:,:,0],blue)\n",
    "    blur[:,:,1] = cv2.add(blur[:,:,1],green)\n",
    "    blur[:,:,2] = cv2.add(blur[:,:,2],red)\n",
    "    blur = cv2.bitwise_not(blur)\n",
    "    blur = cv2.GaussianBlur(blur, (49, 49), 0)\n",
    "    \n",
    "    #diminui parte branca do sabre\n",
    "    kernel = np.ones((10, 10), 'uint8')\n",
    "    saber = cv2.erode(saber, kernel, iterations=3)\n",
    "    \n",
    "    #add sabre e blur ao frame\n",
    "    sa = cv2.add(saber, frame)\n",
    "    sa = cv2.add(blur, sa)\n",
    "    \n",
    "    return sa"
   ]
  },
  {
   "cell_type": "code",
   "execution_count": 8,
   "metadata": {},
   "outputs": [],
   "source": [
    "import numpy as np\n",
    "import cv2\n",
    "\n",
    "cap = cv2.VideoCapture('vassoura.mp4')"
   ]
  },
  {
   "cell_type": "code",
   "execution_count": 9,
   "metadata": {},
   "outputs": [],
   "source": [
    "w = int(cap.get(3))\n",
    "h = int(cap.get(4))\n",
    "\n",
    "out = cv2.VideoWriter('lightsaber.avi',cv2.VideoWriter_fourcc('M','J','P','G'), 30, (w,h))\n",
    "\n",
    "success, frame = cap.read()\n",
    "while success:\n",
    "    frame = generateSaberToFrame(frame)\n",
    "    out.write(frame)\n",
    "    frame = cv2.resize(frame, (600, 360))\n",
    "    cv2.imshow('saber', frame)\n",
    "    \n",
    "    success, frame = cap.read()\n",
    "    if cv2.waitKey(1) & 0xFF == ord('q'):\n",
    "        break      \n",
    "cap.release()\n",
    "out.release()\n",
    "cv2.destroyAllWindows()"
   ]
  },
  {
   "cell_type": "code",
   "execution_count": 10,
   "metadata": {
    "scrolled": true
   },
   "outputs": [],
   "source": [
    "import moviepy.editor as mp\n",
    "   \n",
    "clip = mp.VideoFileClip('lightsaber.avi')\n",
    "clip = clip.subclip(0, 22)\n",
    "audioclip = mp.AudioFileClip('effect.mp3').subclip(0, 22)\n",
    "videoclip = clip.set_audio(audioclip)\n",
    "videoclip.ipython_display()"
   ]
  },
  {
   "cell_type": "code",
   "execution_count": null,
   "metadata": {},
   "outputs": [],
   "source": []
  }
 ],
 "metadata": {
  "kernelspec": {
   "display_name": "Python 3",
   "language": "python",
   "name": "python3"
  },
  "language_info": {
   "codemirror_mode": {
    "name": "ipython",
    "version": 3
   },
   "file_extension": ".py",
   "mimetype": "text/x-python",
   "name": "python",
   "nbconvert_exporter": "python",
   "pygments_lexer": "ipython3",
   "version": "3.8.5"
  }
 },
 "nbformat": 4,
 "nbformat_minor": 4
}
